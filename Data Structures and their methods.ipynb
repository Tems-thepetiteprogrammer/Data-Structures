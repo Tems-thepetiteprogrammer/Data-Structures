{
 "cells": [
  {
   "cell_type": "markdown",
   "id": "9759cabb",
   "metadata": {},
   "source": [
    "# DATA SCIENCE ASSIGNMENT "
   ]
  },
  {
   "cell_type": "code",
   "execution_count": 614,
   "id": "8c912c4e",
   "metadata": {},
   "outputs": [],
   "source": [
    "Skilharvest = ['Data Science', 'Product Management', 'Content creation']"
   ]
  },
  {
   "cell_type": "code",
   "execution_count": 615,
   "id": "24311c97",
   "metadata": {},
   "outputs": [
    {
     "data": {
      "text/plain": [
       "['Data Science', 'Product Management', 'Content creation']"
      ]
     },
     "execution_count": 615,
     "metadata": {},
     "output_type": "execute_result"
    }
   ],
   "source": [
    "Skilharvest"
   ]
  },
  {
   "cell_type": "code",
   "execution_count": 616,
   "id": "e8c057a0",
   "metadata": {},
   "outputs": [],
   "source": [
    "Data_structure=['List', 'Set', 'Tupple']"
   ]
  },
  {
   "cell_type": "code",
   "execution_count": 617,
   "id": "5d706504",
   "metadata": {},
   "outputs": [
    {
     "data": {
      "text/plain": [
       "['List', 'Set', 'Tupple']"
      ]
     },
     "execution_count": 617,
     "metadata": {},
     "output_type": "execute_result"
    }
   ],
   "source": [
    "Data_structure"
   ]
  },
  {
   "cell_type": "code",
   "execution_count": 618,
   "id": "678c2d8f",
   "metadata": {},
   "outputs": [],
   "source": [
    "Phones=['iphone', 'samsung', 'tecno', 'infinix']"
   ]
  },
  {
   "cell_type": "code",
   "execution_count": 619,
   "id": "a0b33dc9",
   "metadata": {},
   "outputs": [
    {
     "data": {
      "text/plain": [
       "['iphone', 'samsung', 'tecno', 'infinix']"
      ]
     },
     "execution_count": 619,
     "metadata": {},
     "output_type": "execute_result"
    }
   ],
   "source": [
    "Phones"
   ]
  },
  {
   "cell_type": "code",
   "execution_count": 620,
   "id": "3e59ef73",
   "metadata": {},
   "outputs": [],
   "source": [
    "Numbers=['one','two', 'three', 'four']"
   ]
  },
  {
   "cell_type": "code",
   "execution_count": 621,
   "id": "0f3b3211",
   "metadata": {},
   "outputs": [],
   "source": [
    "Alphabets=['a', 'e', 'i','o','u']"
   ]
  },
  {
   "cell_type": "code",
   "execution_count": 622,
   "id": "24cba2a8",
   "metadata": {},
   "outputs": [],
   "source": [
    "Building=['bungalow', 'duplex']"
   ]
  },
  {
   "cell_type": "code",
   "execution_count": 623,
   "id": "eda19bc2",
   "metadata": {},
   "outputs": [],
   "source": [
    "Cosmetics=['powder', 'cream', 'lip gloss']"
   ]
  },
  {
   "cell_type": "code",
   "execution_count": 624,
   "id": "d443e90e",
   "metadata": {},
   "outputs": [],
   "source": [
    "Clothes=['shirt', 'skirt', 'trousers', 'singlet']"
   ]
  },
  {
   "cell_type": "code",
   "execution_count": 625,
   "id": "2783aba3",
   "metadata": {},
   "outputs": [],
   "source": [
    "Accessories=['bags', 'watches', 'rings', 'necklaces']"
   ]
  },
  {
   "cell_type": "code",
   "execution_count": 626,
   "id": "883c4ec8",
   "metadata": {},
   "outputs": [],
   "source": [
    "Names=['Temi', 'Joyce', 'Sage', 'Peace']"
   ]
  },
  {
   "cell_type": "markdown",
   "id": "6938d2d9",
   "metadata": {},
   "source": [
    "#addition of  a single item using 'append'\n"
   ]
  },
  {
   "cell_type": "code",
   "execution_count": 627,
   "id": "bac2454a",
   "metadata": {},
   "outputs": [],
   "source": [
    "Skilharvest.append('Product Design')"
   ]
  },
  {
   "cell_type": "code",
   "execution_count": 628,
   "id": "f5f0f802",
   "metadata": {},
   "outputs": [
    {
     "data": {
      "text/plain": [
       "['Data Science', 'Product Management', 'Content creation', 'Product Design']"
      ]
     },
     "execution_count": 628,
     "metadata": {},
     "output_type": "execute_result"
    }
   ],
   "source": [
    "Skilharvest"
   ]
  },
  {
   "cell_type": "code",
   "execution_count": 629,
   "id": "6446f16b",
   "metadata": {},
   "outputs": [],
   "source": [
    "Data_structure.append ('dictionary')"
   ]
  },
  {
   "cell_type": "code",
   "execution_count": 630,
   "id": "aa25fc89",
   "metadata": {},
   "outputs": [
    {
     "data": {
      "text/plain": [
       "['List', 'Set', 'Tupple', 'dictionary']"
      ]
     },
     "execution_count": 630,
     "metadata": {},
     "output_type": "execute_result"
    }
   ],
   "source": [
    "Data_structure"
   ]
  },
  {
   "cell_type": "code",
   "execution_count": 631,
   "id": "c66f6523",
   "metadata": {},
   "outputs": [],
   "source": [
    "Phones.append('itel')"
   ]
  },
  {
   "cell_type": "code",
   "execution_count": 632,
   "id": "33e7fe0a",
   "metadata": {},
   "outputs": [
    {
     "data": {
      "text/plain": [
       "['iphone', 'samsung', 'tecno', 'infinix', 'itel']"
      ]
     },
     "execution_count": 632,
     "metadata": {},
     "output_type": "execute_result"
    }
   ],
   "source": [
    "Phones"
   ]
  },
  {
   "cell_type": "code",
   "execution_count": 633,
   "id": "f07d9eb4",
   "metadata": {},
   "outputs": [],
   "source": [
    "Numbers.append('six')"
   ]
  },
  {
   "cell_type": "code",
   "execution_count": 634,
   "id": "bb7921e6",
   "metadata": {},
   "outputs": [
    {
     "data": {
      "text/plain": [
       "['one', 'two', 'three', 'four', 'six']"
      ]
     },
     "execution_count": 634,
     "metadata": {},
     "output_type": "execute_result"
    }
   ],
   "source": [
    "Numbers"
   ]
  },
  {
   "cell_type": "code",
   "execution_count": 635,
   "id": "4047b127",
   "metadata": {},
   "outputs": [],
   "source": [
    "Alphabets.append('b')"
   ]
  },
  {
   "cell_type": "code",
   "execution_count": 636,
   "id": "b52b529d",
   "metadata": {},
   "outputs": [
    {
     "data": {
      "text/plain": [
       "['a', 'e', 'i', 'o', 'u', 'b']"
      ]
     },
     "execution_count": 636,
     "metadata": {},
     "output_type": "execute_result"
    }
   ],
   "source": [
    "Alphabets"
   ]
  },
  {
   "cell_type": "code",
   "execution_count": 637,
   "id": "269df078",
   "metadata": {},
   "outputs": [],
   "source": [
    "Building.append ('skyscraper')"
   ]
  },
  {
   "cell_type": "code",
   "execution_count": 638,
   "id": "a503795c",
   "metadata": {},
   "outputs": [
    {
     "data": {
      "text/plain": [
       "['bungalow', 'duplex', 'skyscraper']"
      ]
     },
     "execution_count": 638,
     "metadata": {},
     "output_type": "execute_result"
    }
   ],
   "source": [
    "Building"
   ]
  },
  {
   "cell_type": "code",
   "execution_count": 639,
   "id": "da1ca9e1",
   "metadata": {},
   "outputs": [],
   "source": [
    "Cosmetics.append('eye pencil')"
   ]
  },
  {
   "cell_type": "code",
   "execution_count": 640,
   "id": "786abdf8",
   "metadata": {},
   "outputs": [
    {
     "data": {
      "text/plain": [
       "['powder', 'cream', 'lip gloss', 'eye pencil']"
      ]
     },
     "execution_count": 640,
     "metadata": {},
     "output_type": "execute_result"
    }
   ],
   "source": [
    "Cosmetics"
   ]
  },
  {
   "cell_type": "code",
   "execution_count": 641,
   "id": "93ab7bec",
   "metadata": {},
   "outputs": [],
   "source": [
    "Clothes.append('crop top')"
   ]
  },
  {
   "cell_type": "code",
   "execution_count": 642,
   "id": "4d067ea1",
   "metadata": {},
   "outputs": [
    {
     "data": {
      "text/plain": [
       "['shirt', 'skirt', 'trousers', 'singlet', 'crop top']"
      ]
     },
     "execution_count": 642,
     "metadata": {},
     "output_type": "execute_result"
    }
   ],
   "source": [
    "Clothes"
   ]
  },
  {
   "cell_type": "code",
   "execution_count": 643,
   "id": "b485e598",
   "metadata": {},
   "outputs": [],
   "source": [
    "Accessories.append('bracelet')"
   ]
  },
  {
   "cell_type": "code",
   "execution_count": 644,
   "id": "fca219da",
   "metadata": {},
   "outputs": [
    {
     "data": {
      "text/plain": [
       "['bags', 'watches', 'rings', 'necklaces', 'bracelet']"
      ]
     },
     "execution_count": 644,
     "metadata": {},
     "output_type": "execute_result"
    }
   ],
   "source": [
    "Accessories"
   ]
  },
  {
   "cell_type": "code",
   "execution_count": 645,
   "id": "f133af65",
   "metadata": {},
   "outputs": [],
   "source": [
    "Names.append('Blessing')"
   ]
  },
  {
   "cell_type": "code",
   "execution_count": 646,
   "id": "84d5ba7f",
   "metadata": {},
   "outputs": [
    {
     "data": {
      "text/plain": [
       "['Temi', 'Joyce', 'Sage', 'Peace', 'Blessing']"
      ]
     },
     "execution_count": 646,
     "metadata": {},
     "output_type": "execute_result"
    }
   ],
   "source": [
    "Names"
   ]
  },
  {
   "cell_type": "markdown",
   "id": "f999e128",
   "metadata": {},
   "source": [
    "Addition of an item in a specific order (order characteridtics of list)"
   ]
  },
  {
   "cell_type": "code",
   "execution_count": 647,
   "id": "ed9e34d1",
   "metadata": {},
   "outputs": [],
   "source": [
    "Skilharvest.insert(3, 'videoediting')"
   ]
  },
  {
   "cell_type": "code",
   "execution_count": 648,
   "id": "06603978",
   "metadata": {},
   "outputs": [
    {
     "data": {
      "text/plain": [
       "['Data Science',\n",
       " 'Product Management',\n",
       " 'Content creation',\n",
       " 'videoediting',\n",
       " 'Product Design']"
      ]
     },
     "execution_count": 648,
     "metadata": {},
     "output_type": "execute_result"
    }
   ],
   "source": [
    "Skilharvest"
   ]
  },
  {
   "cell_type": "code",
   "execution_count": 649,
   "id": "023622ca",
   "metadata": {},
   "outputs": [],
   "source": [
    "Data_structure.insert(2,'list')\n",
    "#repitition characteristic of list"
   ]
  },
  {
   "cell_type": "code",
   "execution_count": 650,
   "id": "235eead9",
   "metadata": {},
   "outputs": [
    {
     "data": {
      "text/plain": [
       "['List', 'Set', 'list', 'Tupple', 'dictionary']"
      ]
     },
     "execution_count": 650,
     "metadata": {},
     "output_type": "execute_result"
    }
   ],
   "source": [
    "Data_structure"
   ]
  },
  {
   "cell_type": "code",
   "execution_count": 651,
   "id": "1aca7f5b",
   "metadata": {},
   "outputs": [],
   "source": [
    "Phones.insert (0, 'oppo')"
   ]
  },
  {
   "cell_type": "code",
   "execution_count": 652,
   "id": "27d0b282",
   "metadata": {},
   "outputs": [
    {
     "data": {
      "text/plain": [
       "['oppo', 'iphone', 'samsung', 'tecno', 'infinix', 'itel']"
      ]
     },
     "execution_count": 652,
     "metadata": {},
     "output_type": "execute_result"
    }
   ],
   "source": [
    "Phones"
   ]
  },
  {
   "cell_type": "code",
   "execution_count": 653,
   "id": "6c92d8cf",
   "metadata": {},
   "outputs": [],
   "source": [
    "Numbers.insert(5, 'seven')"
   ]
  },
  {
   "cell_type": "code",
   "execution_count": 654,
   "id": "cc8b70b5",
   "metadata": {},
   "outputs": [
    {
     "data": {
      "text/plain": [
       "['one', 'two', 'three', 'four', 'six', 'seven']"
      ]
     },
     "execution_count": 654,
     "metadata": {},
     "output_type": "execute_result"
    }
   ],
   "source": [
    "Numbers"
   ]
  },
  {
   "cell_type": "code",
   "execution_count": 655,
   "id": "7beb55ac",
   "metadata": {},
   "outputs": [],
   "source": [
    "Alphabets.insert (6, 'v')"
   ]
  },
  {
   "cell_type": "code",
   "execution_count": 656,
   "id": "97584939",
   "metadata": {},
   "outputs": [
    {
     "data": {
      "text/plain": [
       "['a', 'e', 'i', 'o', 'u', 'b', 'v']"
      ]
     },
     "execution_count": 656,
     "metadata": {},
     "output_type": "execute_result"
    }
   ],
   "source": [
    "Alphabets"
   ]
  },
  {
   "cell_type": "code",
   "execution_count": 657,
   "id": "a2439f82",
   "metadata": {},
   "outputs": [],
   "source": [
    "Building.insert (1, 'cabin')"
   ]
  },
  {
   "cell_type": "code",
   "execution_count": 658,
   "id": "cdaf865f",
   "metadata": {},
   "outputs": [
    {
     "data": {
      "text/plain": [
       "['bungalow', 'cabin', 'duplex', 'skyscraper']"
      ]
     },
     "execution_count": 658,
     "metadata": {},
     "output_type": "execute_result"
    }
   ],
   "source": [
    "Building"
   ]
  },
  {
   "cell_type": "code",
   "execution_count": 659,
   "id": "10518f64",
   "metadata": {},
   "outputs": [],
   "source": [
    "Cosmetics.insert(3, 'foundation')"
   ]
  },
  {
   "cell_type": "code",
   "execution_count": 660,
   "id": "0feb2a2b",
   "metadata": {},
   "outputs": [
    {
     "data": {
      "text/plain": [
       "['powder', 'cream', 'lip gloss', 'foundation', 'eye pencil']"
      ]
     },
     "execution_count": 660,
     "metadata": {},
     "output_type": "execute_result"
    }
   ],
   "source": [
    "Cosmetics"
   ]
  },
  {
   "cell_type": "code",
   "execution_count": 661,
   "id": "5daaf964",
   "metadata": {},
   "outputs": [],
   "source": [
    "Clothes.insert (4, 'beanie')"
   ]
  },
  {
   "cell_type": "code",
   "execution_count": 662,
   "id": "ed01c88f",
   "metadata": {},
   "outputs": [
    {
     "data": {
      "text/plain": [
       "['shirt', 'skirt', 'trousers', 'singlet', 'beanie', 'crop top']"
      ]
     },
     "execution_count": 662,
     "metadata": {},
     "output_type": "execute_result"
    }
   ],
   "source": [
    "Clothes"
   ]
  },
  {
   "cell_type": "code",
   "execution_count": 663,
   "id": "049f79a9",
   "metadata": {},
   "outputs": [],
   "source": [
    "Accessories.insert (-3, 'earring')"
   ]
  },
  {
   "cell_type": "code",
   "execution_count": 664,
   "id": "9c94470d",
   "metadata": {},
   "outputs": [
    {
     "data": {
      "text/plain": [
       "['bags', 'watches', 'earring', 'rings', 'necklaces', 'bracelet']"
      ]
     },
     "execution_count": 664,
     "metadata": {},
     "output_type": "execute_result"
    }
   ],
   "source": [
    "Accessories"
   ]
  },
  {
   "cell_type": "code",
   "execution_count": 665,
   "id": "4c3248a3",
   "metadata": {},
   "outputs": [],
   "source": [
    "Names.insert(-4, 'Nuella')"
   ]
  },
  {
   "cell_type": "code",
   "execution_count": 666,
   "id": "52f51672",
   "metadata": {},
   "outputs": [
    {
     "data": {
      "text/plain": [
       "['Temi', 'Nuella', 'Joyce', 'Sage', 'Peace', 'Blessing']"
      ]
     },
     "execution_count": 666,
     "metadata": {},
     "output_type": "execute_result"
    }
   ],
   "source": [
    "Names"
   ]
  },
  {
   "cell_type": "markdown",
   "id": "903a1f31",
   "metadata": {},
   "source": [
    "Modifiable characteristics of List"
   ]
  },
  {
   "cell_type": "code",
   "execution_count": 667,
   "id": "e5e63f92",
   "metadata": {},
   "outputs": [
    {
     "data": {
      "text/plain": [
       "'infinix'"
      ]
     },
     "execution_count": 667,
     "metadata": {},
     "output_type": "execute_result"
    }
   ],
   "source": [
    "#modification of an item\n",
    "Phones[-2]"
   ]
  },
  {
   "cell_type": "code",
   "execution_count": 668,
   "id": "823104a3",
   "metadata": {},
   "outputs": [],
   "source": [
    "Phones[-2]= 'Redmi'"
   ]
  },
  {
   "cell_type": "code",
   "execution_count": 669,
   "id": "561b79a6",
   "metadata": {},
   "outputs": [
    {
     "data": {
      "text/plain": [
       "['oppo', 'iphone', 'samsung', 'tecno', 'Redmi', 'itel']"
      ]
     },
     "execution_count": 669,
     "metadata": {},
     "output_type": "execute_result"
    }
   ],
   "source": [
    "Phones"
   ]
  },
  {
   "cell_type": "code",
   "execution_count": 670,
   "id": "5f2e7a8f",
   "metadata": {},
   "outputs": [],
   "source": [
    "Skilharvest[3]='mobile app development'"
   ]
  },
  {
   "cell_type": "code",
   "execution_count": 671,
   "id": "d89c1891",
   "metadata": {},
   "outputs": [
    {
     "data": {
      "text/plain": [
       "['Data Science',\n",
       " 'Product Management',\n",
       " 'Content creation',\n",
       " 'mobile app development',\n",
       " 'Product Design']"
      ]
     },
     "execution_count": 671,
     "metadata": {},
     "output_type": "execute_result"
    }
   ],
   "source": [
    "Skilharvest"
   ]
  },
  {
   "cell_type": "code",
   "execution_count": 672,
   "id": "9ad1a6b9",
   "metadata": {},
   "outputs": [
    {
     "data": {
      "text/plain": [
       "'List'"
      ]
     },
     "execution_count": 672,
     "metadata": {},
     "output_type": "execute_result"
    }
   ],
   "source": [
    "Data_structure[0]"
   ]
  },
  {
   "cell_type": "code",
   "execution_count": 673,
   "id": "7fca6245",
   "metadata": {},
   "outputs": [],
   "source": [
    "Data_structure[0]= 'Set'"
   ]
  },
  {
   "cell_type": "code",
   "execution_count": 674,
   "id": "f594c327",
   "metadata": {},
   "outputs": [
    {
     "data": {
      "text/plain": [
       "['Set', 'Set', 'list', 'Tupple', 'dictionary']"
      ]
     },
     "execution_count": 674,
     "metadata": {},
     "output_type": "execute_result"
    }
   ],
   "source": [
    "Data_structure"
   ]
  },
  {
   "cell_type": "code",
   "execution_count": 675,
   "id": "7916674f",
   "metadata": {},
   "outputs": [],
   "source": [
    "Numbers[5]='eighty'"
   ]
  },
  {
   "cell_type": "code",
   "execution_count": 676,
   "id": "c5f88fe7",
   "metadata": {},
   "outputs": [
    {
     "data": {
      "text/plain": [
       "['one', 'two', 'three', 'four', 'six', 'eighty']"
      ]
     },
     "execution_count": 676,
     "metadata": {},
     "output_type": "execute_result"
    }
   ],
   "source": [
    "Numbers"
   ]
  },
  {
   "cell_type": "code",
   "execution_count": 677,
   "id": "3b3a5ba9",
   "metadata": {},
   "outputs": [],
   "source": [
    "Alphabets[-3]= 'q'"
   ]
  },
  {
   "cell_type": "code",
   "execution_count": 678,
   "id": "d1a63b05",
   "metadata": {},
   "outputs": [
    {
     "data": {
      "text/plain": [
       "['a', 'e', 'i', 'o', 'q', 'b', 'v']"
      ]
     },
     "execution_count": 678,
     "metadata": {},
     "output_type": "execute_result"
    }
   ],
   "source": [
    "Alphabets"
   ]
  },
  {
   "cell_type": "code",
   "execution_count": 679,
   "id": "55b75f12",
   "metadata": {},
   "outputs": [],
   "source": [
    "Building[3]= 'Crib'"
   ]
  },
  {
   "cell_type": "code",
   "execution_count": 680,
   "id": "d25cec18",
   "metadata": {},
   "outputs": [
    {
     "data": {
      "text/plain": [
       "['bungalow', 'cabin', 'duplex', 'Crib']"
      ]
     },
     "execution_count": 680,
     "metadata": {},
     "output_type": "execute_result"
    }
   ],
   "source": [
    "Building"
   ]
  },
  {
   "cell_type": "code",
   "execution_count": 681,
   "id": "c8e3a9cf",
   "metadata": {},
   "outputs": [],
   "source": [
    "Cosmetics[-1]='serum'"
   ]
  },
  {
   "cell_type": "code",
   "execution_count": 682,
   "id": "d0de2107",
   "metadata": {},
   "outputs": [
    {
     "data": {
      "text/plain": [
       "['powder', 'cream', 'lip gloss', 'foundation', 'serum']"
      ]
     },
     "execution_count": 682,
     "metadata": {},
     "output_type": "execute_result"
    }
   ],
   "source": [
    "Cosmetics"
   ]
  },
  {
   "cell_type": "code",
   "execution_count": 683,
   "id": "6850d268",
   "metadata": {},
   "outputs": [],
   "source": [
    "Clothes[2]='ripped jeans'"
   ]
  },
  {
   "cell_type": "code",
   "execution_count": 684,
   "id": "5c1dcf6c",
   "metadata": {},
   "outputs": [
    {
     "data": {
      "text/plain": [
       "['shirt', 'skirt', 'ripped jeans', 'singlet', 'beanie', 'crop top']"
      ]
     },
     "execution_count": 684,
     "metadata": {},
     "output_type": "execute_result"
    }
   ],
   "source": [
    "Clothes"
   ]
  },
  {
   "cell_type": "code",
   "execution_count": 685,
   "id": "b5c51c23",
   "metadata": {},
   "outputs": [],
   "source": [
    "Accessories[-4]= 'anklet'"
   ]
  },
  {
   "cell_type": "code",
   "execution_count": 686,
   "id": "0c49970d",
   "metadata": {},
   "outputs": [
    {
     "data": {
      "text/plain": [
       "['bags', 'watches', 'anklet', 'rings', 'necklaces', 'bracelet']"
      ]
     },
     "execution_count": 686,
     "metadata": {},
     "output_type": "execute_result"
    }
   ],
   "source": [
    "Accessories"
   ]
  },
  {
   "cell_type": "code",
   "execution_count": 687,
   "id": "57eb6ac9",
   "metadata": {},
   "outputs": [],
   "source": [
    "Names[1]='Dorcas'"
   ]
  },
  {
   "cell_type": "code",
   "execution_count": 688,
   "id": "22687f72",
   "metadata": {},
   "outputs": [
    {
     "data": {
      "text/plain": [
       "['Temi', 'Dorcas', 'Joyce', 'Sage', 'Peace', 'Blessing']"
      ]
     },
     "execution_count": 688,
     "metadata": {},
     "output_type": "execute_result"
    }
   ],
   "source": [
    "Names"
   ]
  },
  {
   "cell_type": "code",
   "execution_count": 689,
   "id": "bde0625e",
   "metadata": {},
   "outputs": [],
   "source": [
    "#Modification of a range of items\n",
    "Skilharvest[:-2]= 'computer studies', 'data analysis'"
   ]
  },
  {
   "cell_type": "code",
   "execution_count": 690,
   "id": "e60d965e",
   "metadata": {},
   "outputs": [
    {
     "data": {
      "text/plain": [
       "['computer studies',\n",
       " 'data analysis',\n",
       " 'mobile app development',\n",
       " 'Product Design']"
      ]
     },
     "execution_count": 690,
     "metadata": {},
     "output_type": "execute_result"
    }
   ],
   "source": [
    "Skilharvest"
   ]
  },
  {
   "cell_type": "code",
   "execution_count": 691,
   "id": "a3252485",
   "metadata": {},
   "outputs": [],
   "source": [
    "Data_structure[1:3]='Tupple', 'Tupple', 'Tupple'"
   ]
  },
  {
   "cell_type": "code",
   "execution_count": 692,
   "id": "9265cd0e",
   "metadata": {},
   "outputs": [
    {
     "data": {
      "text/plain": [
       "['Set', 'Tupple', 'Tupple', 'Tupple', 'Tupple', 'dictionary']"
      ]
     },
     "execution_count": 692,
     "metadata": {},
     "output_type": "execute_result"
    }
   ],
   "source": [
    "Data_structure"
   ]
  },
  {
   "cell_type": "code",
   "execution_count": 693,
   "id": "898ba597",
   "metadata": {},
   "outputs": [],
   "source": [
    "Phones[3:]='Visaphone', 'gionee'"
   ]
  },
  {
   "cell_type": "code",
   "execution_count": 694,
   "id": "80587b4e",
   "metadata": {},
   "outputs": [
    {
     "data": {
      "text/plain": [
       "['oppo', 'iphone', 'samsung', 'Visaphone', 'gionee']"
      ]
     },
     "execution_count": 694,
     "metadata": {},
     "output_type": "execute_result"
    }
   ],
   "source": [
    "Phones"
   ]
  },
  {
   "cell_type": "code",
   "execution_count": 695,
   "id": "99ae69e2",
   "metadata": {},
   "outputs": [],
   "source": [
    "Numbers[0:4]='nine', 'ten', 'eleven'"
   ]
  },
  {
   "cell_type": "code",
   "execution_count": 696,
   "id": "9789c5da",
   "metadata": {},
   "outputs": [
    {
     "data": {
      "text/plain": [
       "['nine', 'ten', 'eleven', 'six', 'eighty']"
      ]
     },
     "execution_count": 696,
     "metadata": {},
     "output_type": "execute_result"
    }
   ],
   "source": [
    "Numbers"
   ]
  },
  {
   "cell_type": "code",
   "execution_count": 697,
   "id": "4cf3fd00",
   "metadata": {},
   "outputs": [],
   "source": [
    "Alphabets[-1:]= 's'"
   ]
  },
  {
   "cell_type": "code",
   "execution_count": 698,
   "id": "602a6e25",
   "metadata": {},
   "outputs": [
    {
     "data": {
      "text/plain": [
       "['a', 'e', 'i', 'o', 'q', 'b', 's']"
      ]
     },
     "execution_count": 698,
     "metadata": {},
     "output_type": "execute_result"
    }
   ],
   "source": [
    "Alphabets"
   ]
  },
  {
   "cell_type": "code",
   "execution_count": 699,
   "id": "b1a0df94",
   "metadata": {},
   "outputs": [],
   "source": [
    "Building[2:5]= 'mud house', 'hut', 'apartment'"
   ]
  },
  {
   "cell_type": "code",
   "execution_count": 700,
   "id": "79dc9190",
   "metadata": {},
   "outputs": [
    {
     "data": {
      "text/plain": [
       "['bungalow', 'cabin', 'mud house', 'hut', 'apartment']"
      ]
     },
     "execution_count": 700,
     "metadata": {},
     "output_type": "execute_result"
    }
   ],
   "source": [
    "Building"
   ]
  },
  {
   "cell_type": "code",
   "execution_count": 701,
   "id": "19e03366",
   "metadata": {},
   "outputs": [],
   "source": [
    "Cosmetics[3:]= 'concealer', 'lipstick', 'mirror'"
   ]
  },
  {
   "cell_type": "code",
   "execution_count": 702,
   "id": "c28e9111",
   "metadata": {},
   "outputs": [
    {
     "data": {
      "text/plain": [
       "['powder', 'cream', 'lip gloss', 'concealer', 'lipstick', 'mirror']"
      ]
     },
     "execution_count": 702,
     "metadata": {},
     "output_type": "execute_result"
    }
   ],
   "source": [
    "Cosmetics"
   ]
  },
  {
   "cell_type": "code",
   "execution_count": 703,
   "id": "9063ec00",
   "metadata": {},
   "outputs": [],
   "source": [
    "Clothes[4:]='jeans', 'skirts'"
   ]
  },
  {
   "cell_type": "code",
   "execution_count": 704,
   "id": "c4942d90",
   "metadata": {},
   "outputs": [
    {
     "data": {
      "text/plain": [
       "['shirt', 'skirt', 'ripped jeans', 'singlet', 'jeans', 'skirts']"
      ]
     },
     "execution_count": 704,
     "metadata": {},
     "output_type": "execute_result"
    }
   ],
   "source": [
    "Clothes"
   ]
  },
  {
   "cell_type": "code",
   "execution_count": 705,
   "id": "82f699e6",
   "metadata": {},
   "outputs": [],
   "source": [
    "Accessories[2:3]='gold', 'silver'"
   ]
  },
  {
   "cell_type": "code",
   "execution_count": 706,
   "id": "5019f082",
   "metadata": {},
   "outputs": [
    {
     "data": {
      "text/plain": [
       "['bags', 'watches', 'gold', 'silver', 'rings', 'necklaces', 'bracelet']"
      ]
     },
     "execution_count": 706,
     "metadata": {},
     "output_type": "execute_result"
    }
   ],
   "source": [
    "Accessories"
   ]
  },
  {
   "cell_type": "code",
   "execution_count": 707,
   "id": "4f8e0cfe",
   "metadata": {},
   "outputs": [],
   "source": [
    "Names[:3]='Temi', 'Ngozi', 'John'"
   ]
  },
  {
   "cell_type": "code",
   "execution_count": 708,
   "id": "5c0256c0",
   "metadata": {},
   "outputs": [
    {
     "data": {
      "text/plain": [
       "['Temi', 'Ngozi', 'John', 'Sage', 'Peace', 'Blessing']"
      ]
     },
     "execution_count": 708,
     "metadata": {},
     "output_type": "execute_result"
    }
   ],
   "source": [
    "Names"
   ]
  },
  {
   "cell_type": "markdown",
   "id": "0b2b379e",
   "metadata": {},
   "source": [
    "Deleting of an item\n"
   ]
  },
  {
   "cell_type": "code",
   "execution_count": 709,
   "id": "1f1e020b",
   "metadata": {},
   "outputs": [
    {
     "data": {
      "text/plain": [
       "'Product Design'"
      ]
     },
     "execution_count": 709,
     "metadata": {},
     "output_type": "execute_result"
    }
   ],
   "source": [
    "#Using of 'pop' to delete the last item\n",
    "Skilharvest.pop()"
   ]
  },
  {
   "cell_type": "code",
   "execution_count": 710,
   "id": "ac7d4aae",
   "metadata": {},
   "outputs": [
    {
     "data": {
      "text/plain": [
       "['computer studies', 'data analysis', 'mobile app development']"
      ]
     },
     "execution_count": 710,
     "metadata": {},
     "output_type": "execute_result"
    }
   ],
   "source": [
    "Skilharvest"
   ]
  },
  {
   "cell_type": "code",
   "execution_count": 711,
   "id": "5d75f041",
   "metadata": {},
   "outputs": [
    {
     "data": {
      "text/plain": [
       "'dictionary'"
      ]
     },
     "execution_count": 711,
     "metadata": {},
     "output_type": "execute_result"
    }
   ],
   "source": [
    "Data_structure.pop()"
   ]
  },
  {
   "cell_type": "code",
   "execution_count": 712,
   "id": "ad62f4cb",
   "metadata": {},
   "outputs": [
    {
     "data": {
      "text/plain": [
       "['Set', 'Tupple', 'Tupple', 'Tupple', 'Tupple']"
      ]
     },
     "execution_count": 712,
     "metadata": {},
     "output_type": "execute_result"
    }
   ],
   "source": [
    "Data_structure"
   ]
  },
  {
   "cell_type": "code",
   "execution_count": 713,
   "id": "214784c2",
   "metadata": {},
   "outputs": [
    {
     "data": {
      "text/plain": [
       "'gionee'"
      ]
     },
     "execution_count": 713,
     "metadata": {},
     "output_type": "execute_result"
    }
   ],
   "source": [
    "Phones.pop()"
   ]
  },
  {
   "cell_type": "code",
   "execution_count": 714,
   "id": "20c45df6",
   "metadata": {},
   "outputs": [
    {
     "data": {
      "text/plain": [
       "['oppo', 'iphone', 'samsung', 'Visaphone']"
      ]
     },
     "execution_count": 714,
     "metadata": {},
     "output_type": "execute_result"
    }
   ],
   "source": [
    "Phones\n"
   ]
  },
  {
   "cell_type": "code",
   "execution_count": 715,
   "id": "8bd042f3",
   "metadata": {},
   "outputs": [
    {
     "data": {
      "text/plain": [
       "'eighty'"
      ]
     },
     "execution_count": 715,
     "metadata": {},
     "output_type": "execute_result"
    }
   ],
   "source": [
    "Numbers.pop()"
   ]
  },
  {
   "cell_type": "code",
   "execution_count": 716,
   "id": "d5529102",
   "metadata": {},
   "outputs": [
    {
     "data": {
      "text/plain": [
       "['nine', 'ten', 'eleven', 'six']"
      ]
     },
     "execution_count": 716,
     "metadata": {},
     "output_type": "execute_result"
    }
   ],
   "source": [
    "Numbers"
   ]
  },
  {
   "cell_type": "code",
   "execution_count": 717,
   "id": "d5f1b23a",
   "metadata": {},
   "outputs": [
    {
     "data": {
      "text/plain": [
       "'s'"
      ]
     },
     "execution_count": 717,
     "metadata": {},
     "output_type": "execute_result"
    }
   ],
   "source": [
    "Alphabets.pop()"
   ]
  },
  {
   "cell_type": "code",
   "execution_count": 718,
   "id": "b4299410",
   "metadata": {},
   "outputs": [
    {
     "data": {
      "text/plain": [
       "['a', 'e', 'i', 'o', 'q', 'b']"
      ]
     },
     "execution_count": 718,
     "metadata": {},
     "output_type": "execute_result"
    }
   ],
   "source": [
    "Alphabets"
   ]
  },
  {
   "cell_type": "code",
   "execution_count": 719,
   "id": "f951c7b6",
   "metadata": {},
   "outputs": [
    {
     "data": {
      "text/plain": [
       "'hut'"
      ]
     },
     "execution_count": 719,
     "metadata": {},
     "output_type": "execute_result"
    }
   ],
   "source": [
    "#Using 'pop' with an argument\n",
    "Building.pop(-2)"
   ]
  },
  {
   "cell_type": "code",
   "execution_count": 720,
   "id": "f84b1110",
   "metadata": {},
   "outputs": [
    {
     "data": {
      "text/plain": [
       "['bungalow', 'cabin', 'mud house', 'apartment']"
      ]
     },
     "execution_count": 720,
     "metadata": {},
     "output_type": "execute_result"
    }
   ],
   "source": [
    "Building"
   ]
  },
  {
   "cell_type": "code",
   "execution_count": 721,
   "id": "6c8184b4",
   "metadata": {},
   "outputs": [
    {
     "data": {
      "text/plain": [
       "'mirror'"
      ]
     },
     "execution_count": 721,
     "metadata": {},
     "output_type": "execute_result"
    }
   ],
   "source": [
    "Cosmetics.pop(-1)"
   ]
  },
  {
   "cell_type": "code",
   "execution_count": 722,
   "id": "3791d7fb",
   "metadata": {},
   "outputs": [
    {
     "data": {
      "text/plain": [
       "['powder', 'cream', 'lip gloss', 'concealer', 'lipstick']"
      ]
     },
     "execution_count": 722,
     "metadata": {},
     "output_type": "execute_result"
    }
   ],
   "source": [
    "Cosmetics"
   ]
  },
  {
   "cell_type": "code",
   "execution_count": 723,
   "id": "125f01cd",
   "metadata": {},
   "outputs": [
    {
     "data": {
      "text/plain": [
       "'shirt'"
      ]
     },
     "execution_count": 723,
     "metadata": {},
     "output_type": "execute_result"
    }
   ],
   "source": [
    "Clothes.pop(0)"
   ]
  },
  {
   "cell_type": "code",
   "execution_count": 724,
   "id": "ec012288",
   "metadata": {},
   "outputs": [
    {
     "data": {
      "text/plain": [
       "['skirt', 'ripped jeans', 'singlet', 'jeans', 'skirts']"
      ]
     },
     "execution_count": 724,
     "metadata": {},
     "output_type": "execute_result"
    }
   ],
   "source": [
    "Clothes\n"
   ]
  },
  {
   "cell_type": "code",
   "execution_count": 725,
   "id": "55c2647b",
   "metadata": {},
   "outputs": [
    {
     "data": {
      "text/plain": [
       "'silver'"
      ]
     },
     "execution_count": 725,
     "metadata": {},
     "output_type": "execute_result"
    }
   ],
   "source": [
    "Accessories.pop(3)"
   ]
  },
  {
   "cell_type": "code",
   "execution_count": 726,
   "id": "459faf7d",
   "metadata": {},
   "outputs": [
    {
     "data": {
      "text/plain": [
       "['bags', 'watches', 'gold', 'rings', 'necklaces', 'bracelet']"
      ]
     },
     "execution_count": 726,
     "metadata": {},
     "output_type": "execute_result"
    }
   ],
   "source": [
    "Accessories"
   ]
  },
  {
   "cell_type": "code",
   "execution_count": 727,
   "id": "9a4a14ac",
   "metadata": {},
   "outputs": [
    {
     "data": {
      "text/plain": [
       "'John'"
      ]
     },
     "execution_count": 727,
     "metadata": {},
     "output_type": "execute_result"
    }
   ],
   "source": [
    "Names.pop(2)"
   ]
  },
  {
   "cell_type": "code",
   "execution_count": 728,
   "id": "9fec7d86",
   "metadata": {},
   "outputs": [
    {
     "data": {
      "text/plain": [
       "['Temi', 'Ngozi', 'Sage', 'Peace', 'Blessing']"
      ]
     },
     "execution_count": 728,
     "metadata": {},
     "output_type": "execute_result"
    }
   ],
   "source": [
    "Names"
   ]
  },
  {
   "cell_type": "code",
   "execution_count": 732,
   "id": "83390555",
   "metadata": {},
   "outputs": [],
   "source": [
    "#Using of 'remove' to delete a specific item\n",
    "Skilharvest.remove('computer studies')"
   ]
  },
  {
   "cell_type": "code",
   "execution_count": 733,
   "id": "4d7d0fd0",
   "metadata": {},
   "outputs": [
    {
     "data": {
      "text/plain": [
       "['data analysis', 'mobile app development']"
      ]
     },
     "execution_count": 733,
     "metadata": {},
     "output_type": "execute_result"
    }
   ],
   "source": [
    "Skilharvest"
   ]
  },
  {
   "cell_type": "code",
   "execution_count": 735,
   "id": "02679405",
   "metadata": {},
   "outputs": [],
   "source": [
    "Data_structure.remove('Tupple')"
   ]
  },
  {
   "cell_type": "code",
   "execution_count": 736,
   "id": "937708fb",
   "metadata": {},
   "outputs": [
    {
     "data": {
      "text/plain": [
       "['Set', 'Tupple', 'Tupple', 'Tupple']"
      ]
     },
     "execution_count": 736,
     "metadata": {},
     "output_type": "execute_result"
    }
   ],
   "source": [
    "Data_structure"
   ]
  },
  {
   "cell_type": "code",
   "execution_count": 740,
   "id": "4a8cf567",
   "metadata": {},
   "outputs": [],
   "source": [
    "Phones.remove('Visaphone')"
   ]
  },
  {
   "cell_type": "code",
   "execution_count": 741,
   "id": "234e4f21",
   "metadata": {},
   "outputs": [
    {
     "data": {
      "text/plain": [
       "['oppo', 'iphone', 'samsung']"
      ]
     },
     "execution_count": 741,
     "metadata": {},
     "output_type": "execute_result"
    }
   ],
   "source": [
    "Phones"
   ]
  },
  {
   "cell_type": "code",
   "execution_count": 742,
   "id": "afb7ae11",
   "metadata": {},
   "outputs": [],
   "source": [
    "Numbers.remove('nine')"
   ]
  },
  {
   "cell_type": "code",
   "execution_count": 743,
   "id": "68d55b20",
   "metadata": {},
   "outputs": [
    {
     "data": {
      "text/plain": [
       "['ten', 'eleven', 'six']"
      ]
     },
     "execution_count": 743,
     "metadata": {},
     "output_type": "execute_result"
    }
   ],
   "source": [
    "Numbers"
   ]
  },
  {
   "cell_type": "code",
   "execution_count": 744,
   "id": "95175831",
   "metadata": {},
   "outputs": [],
   "source": [
    "Alphabets.remove('a')"
   ]
  },
  {
   "cell_type": "code",
   "execution_count": 745,
   "id": "740fd91c",
   "metadata": {},
   "outputs": [
    {
     "data": {
      "text/plain": [
       "['e', 'i', 'o', 'q', 'b']"
      ]
     },
     "execution_count": 745,
     "metadata": {},
     "output_type": "execute_result"
    }
   ],
   "source": [
    "Alphabets"
   ]
  },
  {
   "cell_type": "code",
   "execution_count": 746,
   "id": "46516339",
   "metadata": {},
   "outputs": [],
   "source": [
    "Building.remove('apartment')"
   ]
  },
  {
   "cell_type": "code",
   "execution_count": 747,
   "id": "4870fd7b",
   "metadata": {},
   "outputs": [
    {
     "data": {
      "text/plain": [
       "['bungalow', 'cabin', 'mud house']"
      ]
     },
     "execution_count": 747,
     "metadata": {},
     "output_type": "execute_result"
    }
   ],
   "source": [
    "Building"
   ]
  },
  {
   "cell_type": "code",
   "execution_count": 749,
   "id": "0842f1e8",
   "metadata": {},
   "outputs": [],
   "source": [
    "Cosmetics.remove('lip gloss')"
   ]
  },
  {
   "cell_type": "code",
   "execution_count": 750,
   "id": "1a8b6d6b",
   "metadata": {},
   "outputs": [
    {
     "data": {
      "text/plain": [
       "['powder', 'cream', 'concealer', 'lipstick']"
      ]
     },
     "execution_count": 750,
     "metadata": {},
     "output_type": "execute_result"
    }
   ],
   "source": [
    "Cosmetics"
   ]
  },
  {
   "cell_type": "code",
   "execution_count": 751,
   "id": "bb202344",
   "metadata": {},
   "outputs": [],
   "source": [
    "Clothes.remove('singlet')"
   ]
  },
  {
   "cell_type": "code",
   "execution_count": 752,
   "id": "2bf84c26",
   "metadata": {},
   "outputs": [
    {
     "data": {
      "text/plain": [
       "['skirt', 'ripped jeans', 'jeans', 'skirts']"
      ]
     },
     "execution_count": 752,
     "metadata": {},
     "output_type": "execute_result"
    }
   ],
   "source": [
    "Clothes"
   ]
  },
  {
   "cell_type": "code",
   "execution_count": 753,
   "id": "e5e323f9",
   "metadata": {},
   "outputs": [],
   "source": [
    "Accessories.remove('bags')"
   ]
  },
  {
   "cell_type": "code",
   "execution_count": 754,
   "id": "e5dd7050",
   "metadata": {},
   "outputs": [
    {
     "data": {
      "text/plain": [
       "['watches', 'gold', 'rings', 'necklaces', 'bracelet']"
      ]
     },
     "execution_count": 754,
     "metadata": {},
     "output_type": "execute_result"
    }
   ],
   "source": [
    "Accessories"
   ]
  },
  {
   "cell_type": "code",
   "execution_count": 755,
   "id": "667023ad",
   "metadata": {},
   "outputs": [],
   "source": [
    "Names.remove('Peace')"
   ]
  },
  {
   "cell_type": "code",
   "execution_count": 756,
   "id": "c2d6ebc8",
   "metadata": {},
   "outputs": [
    {
     "data": {
      "text/plain": [
       "['Temi', 'Ngozi', 'Sage', 'Blessing']"
      ]
     },
     "execution_count": 756,
     "metadata": {},
     "output_type": "execute_result"
    }
   ],
   "source": [
    "Names"
   ]
  },
  {
   "cell_type": "markdown",
   "id": "5c8e7437",
   "metadata": {},
   "source": [
    "Arrangment of Items in a list"
   ]
  },
  {
   "cell_type": "code",
   "execution_count": 757,
   "id": "679c1481",
   "metadata": {},
   "outputs": [],
   "source": [
    "#Use of sort; to arrange alphabetically or numerically"
   ]
  },
  {
   "cell_type": "code",
   "execution_count": 759,
   "id": "e65744dc",
   "metadata": {},
   "outputs": [],
   "source": [
    "Skilharvest.sort()"
   ]
  },
  {
   "cell_type": "code",
   "execution_count": 760,
   "id": "0e117aba",
   "metadata": {},
   "outputs": [
    {
     "data": {
      "text/plain": [
       "['data analysis', 'mobile app development']"
      ]
     },
     "execution_count": 760,
     "metadata": {},
     "output_type": "execute_result"
    }
   ],
   "source": [
    "Skilharvest"
   ]
  },
  {
   "cell_type": "code",
   "execution_count": 763,
   "id": "fb908571",
   "metadata": {},
   "outputs": [],
   "source": [
    "Data_structure.sort()"
   ]
  },
  {
   "cell_type": "code",
   "execution_count": 764,
   "id": "2d98964f",
   "metadata": {},
   "outputs": [
    {
     "data": {
      "text/plain": [
       "['Set', 'Tupple', 'Tupple', 'Tupple']"
      ]
     },
     "execution_count": 764,
     "metadata": {},
     "output_type": "execute_result"
    }
   ],
   "source": [
    "Data_structure"
   ]
  },
  {
   "cell_type": "code",
   "execution_count": 766,
   "id": "468a817c",
   "metadata": {},
   "outputs": [],
   "source": [
    "Phones.sort()"
   ]
  },
  {
   "cell_type": "code",
   "execution_count": 767,
   "id": "4d6aba2f",
   "metadata": {},
   "outputs": [
    {
     "data": {
      "text/plain": [
       "['iphone', 'oppo', 'samsung']"
      ]
     },
     "execution_count": 767,
     "metadata": {},
     "output_type": "execute_result"
    }
   ],
   "source": [
    "Phones"
   ]
  },
  {
   "cell_type": "code",
   "execution_count": 768,
   "id": "1bceefd0",
   "metadata": {},
   "outputs": [],
   "source": [
    "Numbers.sort()"
   ]
  },
  {
   "cell_type": "code",
   "execution_count": 769,
   "id": "7f86e480",
   "metadata": {},
   "outputs": [
    {
     "data": {
      "text/plain": [
       "['eleven', 'six', 'ten']"
      ]
     },
     "execution_count": 769,
     "metadata": {},
     "output_type": "execute_result"
    }
   ],
   "source": [
    "Numbers"
   ]
  },
  {
   "cell_type": "code",
   "execution_count": 770,
   "id": "57e3a50c",
   "metadata": {},
   "outputs": [],
   "source": [
    "Alphabets.sort()"
   ]
  },
  {
   "cell_type": "code",
   "execution_count": 771,
   "id": "0e25233f",
   "metadata": {},
   "outputs": [
    {
     "data": {
      "text/plain": [
       "['b', 'e', 'i', 'o', 'q']"
      ]
     },
     "execution_count": 771,
     "metadata": {},
     "output_type": "execute_result"
    }
   ],
   "source": [
    "Alphabets"
   ]
  },
  {
   "cell_type": "code",
   "execution_count": 773,
   "id": "5027deaf",
   "metadata": {},
   "outputs": [],
   "source": [
    "Building.sort()"
   ]
  },
  {
   "cell_type": "code",
   "execution_count": 774,
   "id": "b8e4a470",
   "metadata": {},
   "outputs": [
    {
     "data": {
      "text/plain": [
       "['bungalow', 'cabin', 'mud house']"
      ]
     },
     "execution_count": 774,
     "metadata": {},
     "output_type": "execute_result"
    }
   ],
   "source": [
    "Building\n"
   ]
  },
  {
   "cell_type": "code",
   "execution_count": 776,
   "id": "bae4c924",
   "metadata": {},
   "outputs": [],
   "source": [
    "Cosmetics.sort()"
   ]
  },
  {
   "cell_type": "code",
   "execution_count": 777,
   "id": "14f6a0f9",
   "metadata": {},
   "outputs": [
    {
     "data": {
      "text/plain": [
       "['concealer', 'cream', 'lipstick', 'powder']"
      ]
     },
     "execution_count": 777,
     "metadata": {},
     "output_type": "execute_result"
    }
   ],
   "source": [
    "Cosmetics"
   ]
  },
  {
   "cell_type": "code",
   "execution_count": 779,
   "id": "aeceec01",
   "metadata": {},
   "outputs": [],
   "source": [
    "Clothes.sort()"
   ]
  },
  {
   "cell_type": "code",
   "execution_count": 780,
   "id": "8bf5dce4",
   "metadata": {},
   "outputs": [
    {
     "data": {
      "text/plain": [
       "['jeans', 'ripped jeans', 'skirt', 'skirts']"
      ]
     },
     "execution_count": 780,
     "metadata": {},
     "output_type": "execute_result"
    }
   ],
   "source": [
    "Clothes"
   ]
  },
  {
   "cell_type": "code",
   "execution_count": 781,
   "id": "8fa21c6f",
   "metadata": {},
   "outputs": [],
   "source": [
    "Accessories.sort()"
   ]
  },
  {
   "cell_type": "code",
   "execution_count": 782,
   "id": "d2c51a48",
   "metadata": {},
   "outputs": [
    {
     "data": {
      "text/plain": [
       "['bracelet', 'gold', 'necklaces', 'rings', 'watches']"
      ]
     },
     "execution_count": 782,
     "metadata": {},
     "output_type": "execute_result"
    }
   ],
   "source": [
    "Accessories"
   ]
  },
  {
   "cell_type": "code",
   "execution_count": 784,
   "id": "5dc47726",
   "metadata": {},
   "outputs": [],
   "source": [
    "Names.sort()"
   ]
  },
  {
   "cell_type": "code",
   "execution_count": 785,
   "id": "52b1511b",
   "metadata": {},
   "outputs": [
    {
     "data": {
      "text/plain": [
       "['Blessing', 'Ngozi', 'Sage', 'Temi']"
      ]
     },
     "execution_count": 785,
     "metadata": {},
     "output_type": "execute_result"
    }
   ],
   "source": [
    "Names"
   ]
  },
  {
   "cell_type": "code",
   "execution_count": 786,
   "id": "6e7c13f5",
   "metadata": {},
   "outputs": [],
   "source": [
    "#use of reverse: to arrange items in the opposite direction of 'sort'"
   ]
  },
  {
   "cell_type": "code",
   "execution_count": 787,
   "id": "59597024",
   "metadata": {},
   "outputs": [],
   "source": [
    "Skilharvest.reverse()"
   ]
  },
  {
   "cell_type": "code",
   "execution_count": 788,
   "id": "fe2d65cb",
   "metadata": {},
   "outputs": [
    {
     "data": {
      "text/plain": [
       "['mobile app development', 'data analysis']"
      ]
     },
     "execution_count": 788,
     "metadata": {},
     "output_type": "execute_result"
    }
   ],
   "source": [
    "Skilharvest"
   ]
  },
  {
   "cell_type": "code",
   "execution_count": 789,
   "id": "4d0af7a5",
   "metadata": {},
   "outputs": [],
   "source": [
    "Data_structure.reverse()"
   ]
  },
  {
   "cell_type": "code",
   "execution_count": 790,
   "id": "34d06fa3",
   "metadata": {},
   "outputs": [
    {
     "data": {
      "text/plain": [
       "['Tupple', 'Tupple', 'Tupple', 'Set']"
      ]
     },
     "execution_count": 790,
     "metadata": {},
     "output_type": "execute_result"
    }
   ],
   "source": [
    "Data_structure"
   ]
  },
  {
   "cell_type": "code",
   "execution_count": 791,
   "id": "833d57a2",
   "metadata": {},
   "outputs": [],
   "source": [
    "Phones.reverse()"
   ]
  },
  {
   "cell_type": "code",
   "execution_count": 792,
   "id": "7ffc2546",
   "metadata": {},
   "outputs": [
    {
     "data": {
      "text/plain": [
       "['samsung', 'oppo', 'iphone']"
      ]
     },
     "execution_count": 792,
     "metadata": {},
     "output_type": "execute_result"
    }
   ],
   "source": [
    "Phones"
   ]
  },
  {
   "cell_type": "code",
   "execution_count": 793,
   "id": "0d4a1b4e",
   "metadata": {},
   "outputs": [],
   "source": [
    "Numbers.reverse()"
   ]
  },
  {
   "cell_type": "code",
   "execution_count": 794,
   "id": "cc4f278d",
   "metadata": {},
   "outputs": [
    {
     "data": {
      "text/plain": [
       "['ten', 'six', 'eleven']"
      ]
     },
     "execution_count": 794,
     "metadata": {},
     "output_type": "execute_result"
    }
   ],
   "source": [
    "Numbers"
   ]
  },
  {
   "cell_type": "code",
   "execution_count": 795,
   "id": "7cf06049",
   "metadata": {},
   "outputs": [],
   "source": [
    "Alphabets.reverse()"
   ]
  },
  {
   "cell_type": "code",
   "execution_count": 796,
   "id": "a704c615",
   "metadata": {},
   "outputs": [
    {
     "data": {
      "text/plain": [
       "['q', 'o', 'i', 'e', 'b']"
      ]
     },
     "execution_count": 796,
     "metadata": {},
     "output_type": "execute_result"
    }
   ],
   "source": [
    "Alphabets"
   ]
  },
  {
   "cell_type": "code",
   "execution_count": 797,
   "id": "dc0e0a63",
   "metadata": {},
   "outputs": [],
   "source": [
    "Building.reverse()"
   ]
  },
  {
   "cell_type": "code",
   "execution_count": 798,
   "id": "cb51d13b",
   "metadata": {},
   "outputs": [
    {
     "data": {
      "text/plain": [
       "['mud house', 'cabin', 'bungalow']"
      ]
     },
     "execution_count": 798,
     "metadata": {},
     "output_type": "execute_result"
    }
   ],
   "source": [
    "Building"
   ]
  },
  {
   "cell_type": "code",
   "execution_count": 799,
   "id": "9ca6f8b9",
   "metadata": {},
   "outputs": [],
   "source": [
    "Cosmetics.reverse()"
   ]
  },
  {
   "cell_type": "code",
   "execution_count": 800,
   "id": "1b5f462f",
   "metadata": {},
   "outputs": [
    {
     "data": {
      "text/plain": [
       "['powder', 'lipstick', 'cream', 'concealer']"
      ]
     },
     "execution_count": 800,
     "metadata": {},
     "output_type": "execute_result"
    }
   ],
   "source": [
    "Cosmetics"
   ]
  },
  {
   "cell_type": "code",
   "execution_count": 801,
   "id": "6bf9c153",
   "metadata": {},
   "outputs": [],
   "source": [
    "Clothes.reverse()"
   ]
  },
  {
   "cell_type": "code",
   "execution_count": 802,
   "id": "173f3eb2",
   "metadata": {},
   "outputs": [
    {
     "data": {
      "text/plain": [
       "['skirts', 'skirt', 'ripped jeans', 'jeans']"
      ]
     },
     "execution_count": 802,
     "metadata": {},
     "output_type": "execute_result"
    }
   ],
   "source": [
    "Clothes"
   ]
  },
  {
   "cell_type": "code",
   "execution_count": 804,
   "id": "3349eed2",
   "metadata": {},
   "outputs": [],
   "source": [
    "Accessories.reverse()"
   ]
  },
  {
   "cell_type": "code",
   "execution_count": 805,
   "id": "1d030b95",
   "metadata": {},
   "outputs": [
    {
     "data": {
      "text/plain": [
       "['watches', 'rings', 'necklaces', 'gold', 'bracelet']"
      ]
     },
     "execution_count": 805,
     "metadata": {},
     "output_type": "execute_result"
    }
   ],
   "source": [
    "Accessories"
   ]
  },
  {
   "cell_type": "code",
   "execution_count": 806,
   "id": "db5c2ba8",
   "metadata": {},
   "outputs": [],
   "source": [
    "Names.reverse()"
   ]
  },
  {
   "cell_type": "code",
   "execution_count": 807,
   "id": "dff67578",
   "metadata": {},
   "outputs": [
    {
     "data": {
      "text/plain": [
       "['Temi', 'Sage', 'Ngozi', 'Blessing']"
      ]
     },
     "execution_count": 807,
     "metadata": {},
     "output_type": "execute_result"
    }
   ],
   "source": [
    "Names"
   ]
  },
  {
   "cell_type": "code",
   "execution_count": 811,
   "id": "bd60ee5b",
   "metadata": {},
   "outputs": [],
   "source": [
    "s=Skilharvest.copy()"
   ]
  },
  {
   "cell_type": "code",
   "execution_count": 812,
   "id": "2da983d3",
   "metadata": {},
   "outputs": [
    {
     "data": {
      "text/plain": [
       "['mobile app development', 'data analysis']"
      ]
     },
     "execution_count": 812,
     "metadata": {},
     "output_type": "execute_result"
    }
   ],
   "source": [
    "s"
   ]
  },
  {
   "cell_type": "code",
   "execution_count": 816,
   "id": "2439fc24",
   "metadata": {},
   "outputs": [],
   "source": [
    "d=Data_structure.copy()"
   ]
  },
  {
   "cell_type": "code",
   "execution_count": 817,
   "id": "1deec34b",
   "metadata": {},
   "outputs": [
    {
     "data": {
      "text/plain": [
       "['Tupple', 'Tupple', 'Tupple', 'Set']"
      ]
     },
     "execution_count": 817,
     "metadata": {},
     "output_type": "execute_result"
    }
   ],
   "source": [
    "d"
   ]
  },
  {
   "cell_type": "code",
   "execution_count": 819,
   "id": "5860c166",
   "metadata": {},
   "outputs": [],
   "source": [
    "p=Phones.copy()"
   ]
  },
  {
   "cell_type": "code",
   "execution_count": 820,
   "id": "2f86a3e3",
   "metadata": {},
   "outputs": [
    {
     "data": {
      "text/plain": [
       "['samsung', 'oppo', 'iphone']"
      ]
     },
     "execution_count": 820,
     "metadata": {},
     "output_type": "execute_result"
    }
   ],
   "source": [
    "p"
   ]
  },
  {
   "cell_type": "code",
   "execution_count": 821,
   "id": "9193fbb0",
   "metadata": {},
   "outputs": [],
   "source": [
    "n=Numbers.copy()"
   ]
  },
  {
   "cell_type": "code",
   "execution_count": 822,
   "id": "0a62c9a0",
   "metadata": {},
   "outputs": [
    {
     "data": {
      "text/plain": [
       "['ten', 'six', 'eleven']"
      ]
     },
     "execution_count": 822,
     "metadata": {},
     "output_type": "execute_result"
    }
   ],
   "source": [
    "n"
   ]
  },
  {
   "cell_type": "code",
   "execution_count": 823,
   "id": "5c5f1dd2",
   "metadata": {},
   "outputs": [],
   "source": [
    "a=Alphabets.copy()"
   ]
  },
  {
   "cell_type": "code",
   "execution_count": 824,
   "id": "4b6e4673",
   "metadata": {},
   "outputs": [
    {
     "data": {
      "text/plain": [
       "['q', 'o', 'i', 'e', 'b']"
      ]
     },
     "execution_count": 824,
     "metadata": {},
     "output_type": "execute_result"
    }
   ],
   "source": [
    "a"
   ]
  },
  {
   "cell_type": "code",
   "execution_count": 825,
   "id": "3792ec68",
   "metadata": {},
   "outputs": [],
   "source": [
    "b=Building.copy()"
   ]
  },
  {
   "cell_type": "code",
   "execution_count": 826,
   "id": "805f4c41",
   "metadata": {},
   "outputs": [
    {
     "data": {
      "text/plain": [
       "['mud house', 'cabin', 'bungalow']"
      ]
     },
     "execution_count": 826,
     "metadata": {},
     "output_type": "execute_result"
    }
   ],
   "source": [
    "b"
   ]
  },
  {
   "cell_type": "code",
   "execution_count": 827,
   "id": "282b5938",
   "metadata": {},
   "outputs": [],
   "source": [
    "c=Cosmetics.copy()"
   ]
  },
  {
   "cell_type": "code",
   "execution_count": 828,
   "id": "f4a0efcd",
   "metadata": {},
   "outputs": [
    {
     "data": {
      "text/plain": [
       "['powder', 'lipstick', 'cream', 'concealer']"
      ]
     },
     "execution_count": 828,
     "metadata": {},
     "output_type": "execute_result"
    }
   ],
   "source": [
    "c"
   ]
  },
  {
   "cell_type": "code",
   "execution_count": 883,
   "id": "f682e663",
   "metadata": {},
   "outputs": [],
   "source": [
    "x=Clothes.copy()"
   ]
  },
  {
   "cell_type": "code",
   "execution_count": 884,
   "id": "a7ca0aa8",
   "metadata": {},
   "outputs": [
    {
     "data": {
      "text/plain": [
       "[]"
      ]
     },
     "execution_count": 884,
     "metadata": {},
     "output_type": "execute_result"
    }
   ],
   "source": [
    "x"
   ]
  },
  {
   "cell_type": "code",
   "execution_count": 831,
   "id": "fabdefba",
   "metadata": {},
   "outputs": [],
   "source": [
    "y=Accessories.copy()"
   ]
  },
  {
   "cell_type": "code",
   "execution_count": 832,
   "id": "0653c60b",
   "metadata": {},
   "outputs": [
    {
     "data": {
      "text/plain": [
       "['watches', 'rings', 'necklaces', 'gold', 'bracelet']"
      ]
     },
     "execution_count": 832,
     "metadata": {},
     "output_type": "execute_result"
    }
   ],
   "source": [
    "y"
   ]
  },
  {
   "cell_type": "code",
   "execution_count": 833,
   "id": "e48bcac6",
   "metadata": {},
   "outputs": [],
   "source": [
    "z=Names.copy()"
   ]
  },
  {
   "cell_type": "code",
   "execution_count": 834,
   "id": "de842168",
   "metadata": {},
   "outputs": [
    {
     "data": {
      "text/plain": [
       "['Temi', 'Sage', 'Ngozi', 'Blessing']"
      ]
     },
     "execution_count": 834,
     "metadata": {},
     "output_type": "execute_result"
    }
   ],
   "source": [
    "z"
   ]
  },
  {
   "cell_type": "code",
   "execution_count": 835,
   "id": "64ad1230",
   "metadata": {},
   "outputs": [],
   "source": [
    "#To delete all items in a list usuing 'clear' method"
   ]
  },
  {
   "cell_type": "code",
   "execution_count": 836,
   "id": "68e39c59",
   "metadata": {},
   "outputs": [],
   "source": [
    "Skilharvest.clear()"
   ]
  },
  {
   "cell_type": "code",
   "execution_count": 837,
   "id": "2954cd5b",
   "metadata": {},
   "outputs": [
    {
     "data": {
      "text/plain": [
       "[]"
      ]
     },
     "execution_count": 837,
     "metadata": {},
     "output_type": "execute_result"
    }
   ],
   "source": [
    "Skilharvest"
   ]
  },
  {
   "cell_type": "code",
   "execution_count": 840,
   "id": "52f9e22b",
   "metadata": {},
   "outputs": [],
   "source": [
    "Data_structure.clear()"
   ]
  },
  {
   "cell_type": "code",
   "execution_count": 841,
   "id": "6010bf6a",
   "metadata": {},
   "outputs": [
    {
     "data": {
      "text/plain": [
       "[]"
      ]
     },
     "execution_count": 841,
     "metadata": {},
     "output_type": "execute_result"
    }
   ],
   "source": [
    "Data_structure"
   ]
  },
  {
   "cell_type": "code",
   "execution_count": 842,
   "id": "31e38d65",
   "metadata": {},
   "outputs": [
    {
     "data": {
      "text/plain": [
       "['Tupple', 'Tupple', 'Tupple', 'Set']"
      ]
     },
     "execution_count": 842,
     "metadata": {},
     "output_type": "execute_result"
    }
   ],
   "source": [
    "d"
   ]
  },
  {
   "cell_type": "code",
   "execution_count": 843,
   "id": "783f283b",
   "metadata": {},
   "outputs": [],
   "source": [
    "Phones.clear()"
   ]
  },
  {
   "cell_type": "code",
   "execution_count": 844,
   "id": "5da73941",
   "metadata": {},
   "outputs": [
    {
     "data": {
      "text/plain": [
       "[]"
      ]
     },
     "execution_count": 844,
     "metadata": {},
     "output_type": "execute_result"
    }
   ],
   "source": [
    "Phones"
   ]
  },
  {
   "cell_type": "code",
   "execution_count": 845,
   "id": "38570bff",
   "metadata": {},
   "outputs": [],
   "source": [
    "Numbers.clear()"
   ]
  },
  {
   "cell_type": "code",
   "execution_count": 846,
   "id": "527c4ada",
   "metadata": {},
   "outputs": [
    {
     "data": {
      "text/plain": [
       "[]"
      ]
     },
     "execution_count": 846,
     "metadata": {},
     "output_type": "execute_result"
    }
   ],
   "source": [
    "Numbers"
   ]
  },
  {
   "cell_type": "code",
   "execution_count": 847,
   "id": "eee3a8a6",
   "metadata": {},
   "outputs": [],
   "source": [
    "Alphabets.clear()"
   ]
  },
  {
   "cell_type": "code",
   "execution_count": 848,
   "id": "9bafd589",
   "metadata": {},
   "outputs": [
    {
     "data": {
      "text/plain": [
       "[]"
      ]
     },
     "execution_count": 848,
     "metadata": {},
     "output_type": "execute_result"
    }
   ],
   "source": [
    "Alphabets"
   ]
  },
  {
   "cell_type": "code",
   "execution_count": 849,
   "id": "0f77e0d0",
   "metadata": {},
   "outputs": [],
   "source": [
    "Building.clear()"
   ]
  },
  {
   "cell_type": "code",
   "execution_count": 850,
   "id": "42681ca1",
   "metadata": {},
   "outputs": [
    {
     "data": {
      "text/plain": [
       "[]"
      ]
     },
     "execution_count": 850,
     "metadata": {},
     "output_type": "execute_result"
    }
   ],
   "source": [
    "Building"
   ]
  },
  {
   "cell_type": "code",
   "execution_count": 851,
   "id": "af9329bd",
   "metadata": {},
   "outputs": [],
   "source": [
    "Cosmetics.clear()"
   ]
  },
  {
   "cell_type": "code",
   "execution_count": 852,
   "id": "2a6af0ab",
   "metadata": {},
   "outputs": [
    {
     "data": {
      "text/plain": [
       "[]"
      ]
     },
     "execution_count": 852,
     "metadata": {},
     "output_type": "execute_result"
    }
   ],
   "source": [
    "Cosmetics"
   ]
  },
  {
   "cell_type": "code",
   "execution_count": 853,
   "id": "6bf301cc",
   "metadata": {},
   "outputs": [],
   "source": [
    "Clothes.clear()"
   ]
  },
  {
   "cell_type": "code",
   "execution_count": 854,
   "id": "0d8e240c",
   "metadata": {},
   "outputs": [
    {
     "data": {
      "text/plain": [
       "[]"
      ]
     },
     "execution_count": 854,
     "metadata": {},
     "output_type": "execute_result"
    }
   ],
   "source": [
    "Clothes"
   ]
  },
  {
   "cell_type": "code",
   "execution_count": 855,
   "id": "2730d03a",
   "metadata": {},
   "outputs": [],
   "source": [
    "Accessories.clear()"
   ]
  },
  {
   "cell_type": "code",
   "execution_count": 856,
   "id": "76440d76",
   "metadata": {},
   "outputs": [
    {
     "data": {
      "text/plain": [
       "[]"
      ]
     },
     "execution_count": 856,
     "metadata": {},
     "output_type": "execute_result"
    }
   ],
   "source": [
    "Accessories"
   ]
  },
  {
   "cell_type": "code",
   "execution_count": 857,
   "id": "29c54a7a",
   "metadata": {},
   "outputs": [],
   "source": [
    "Names.clear()"
   ]
  },
  {
   "cell_type": "code",
   "execution_count": 858,
   "id": "cbbb6103",
   "metadata": {},
   "outputs": [
    {
     "data": {
      "text/plain": [
       "[]"
      ]
     },
     "execution_count": 858,
     "metadata": {},
     "output_type": "execute_result"
    }
   ],
   "source": [
    "Names"
   ]
  },
  {
   "cell_type": "code",
   "execution_count": 859,
   "id": "8baffcd3",
   "metadata": {},
   "outputs": [],
   "source": [
    "x.clear()"
   ]
  },
  {
   "cell_type": "code",
   "execution_count": 860,
   "id": "c9b91c68",
   "metadata": {},
   "outputs": [
    {
     "data": {
      "text/plain": [
       "[]"
      ]
     },
     "execution_count": 860,
     "metadata": {},
     "output_type": "execute_result"
    }
   ],
   "source": [
    "x"
   ]
  },
  {
   "cell_type": "code",
   "execution_count": 892,
   "id": "fec6a18f",
   "metadata": {},
   "outputs": [],
   "source": [
    "#Addition of multiple items to a list using 'extend' method"
   ]
  },
  {
   "cell_type": "code",
   "execution_count": 861,
   "id": "b06074c7",
   "metadata": {},
   "outputs": [],
   "source": [
    "s.extend (['digital marketing', 'typewriting'])"
   ]
  },
  {
   "cell_type": "code",
   "execution_count": 862,
   "id": "769f0fd7",
   "metadata": {},
   "outputs": [
    {
     "data": {
      "text/plain": [
       "['mobile app development', 'data analysis', 'digital marketing', 'typewriting']"
      ]
     },
     "execution_count": 862,
     "metadata": {},
     "output_type": "execute_result"
    }
   ],
   "source": [
    "s"
   ]
  },
  {
   "cell_type": "code",
   "execution_count": 863,
   "id": "ad726d54",
   "metadata": {},
   "outputs": [],
   "source": [
    "d.extend(['List', 'Dictionary'])"
   ]
  },
  {
   "cell_type": "code",
   "execution_count": 864,
   "id": "d8c8adfb",
   "metadata": {},
   "outputs": [
    {
     "data": {
      "text/plain": [
       "['Tupple', 'Tupple', 'Tupple', 'Set', 'List', 'Dictionary']"
      ]
     },
     "execution_count": 864,
     "metadata": {},
     "output_type": "execute_result"
    }
   ],
   "source": [
    "d"
   ]
  },
  {
   "cell_type": "code",
   "execution_count": 865,
   "id": "929f6b12",
   "metadata": {},
   "outputs": [],
   "source": [
    "a.extend(['R', 'T', 'I', 'K'])"
   ]
  },
  {
   "cell_type": "code",
   "execution_count": 867,
   "id": "71371475",
   "metadata": {},
   "outputs": [
    {
     "data": {
      "text/plain": [
       "['q', 'o', 'i', 'e', 'b', 'R', 'T', 'I', 'K']"
      ]
     },
     "execution_count": 867,
     "metadata": {},
     "output_type": "execute_result"
    }
   ],
   "source": [
    "a"
   ]
  },
  {
   "cell_type": "code",
   "execution_count": 868,
   "id": "593e9a1a",
   "metadata": {},
   "outputs": [],
   "source": [
    "n.extend ([1,2,6,9])"
   ]
  },
  {
   "cell_type": "code",
   "execution_count": 869,
   "id": "eab8a924",
   "metadata": {},
   "outputs": [
    {
     "data": {
      "text/plain": [
       "['ten', 'six', 'eleven', 1, 2, 6, 9]"
      ]
     },
     "execution_count": 869,
     "metadata": {},
     "output_type": "execute_result"
    }
   ],
   "source": [
    "n"
   ]
  },
  {
   "cell_type": "code",
   "execution_count": 870,
   "id": "c3c595d6",
   "metadata": {},
   "outputs": [],
   "source": [
    "p.extend(['umidigi'])"
   ]
  },
  {
   "cell_type": "code",
   "execution_count": 871,
   "id": "573324af",
   "metadata": {},
   "outputs": [
    {
     "data": {
      "text/plain": [
       "['samsung', 'oppo', 'iphone', 'umidigi']"
      ]
     },
     "execution_count": 871,
     "metadata": {},
     "output_type": "execute_result"
    }
   ],
   "source": [
    "p"
   ]
  },
  {
   "cell_type": "code",
   "execution_count": 872,
   "id": "a881a012",
   "metadata": {},
   "outputs": [],
   "source": [
    "c.extend (['liner', 'eye shadow'])"
   ]
  },
  {
   "cell_type": "code",
   "execution_count": 873,
   "id": "9c87c6db",
   "metadata": {},
   "outputs": [
    {
     "data": {
      "text/plain": [
       "['powder', 'lipstick', 'cream', 'concealer', 'liner', 'eye shadow']"
      ]
     },
     "execution_count": 873,
     "metadata": {},
     "output_type": "execute_result"
    }
   ],
   "source": [
    "c"
   ]
  },
  {
   "cell_type": "code",
   "execution_count": 874,
   "id": "101e14d4",
   "metadata": {},
   "outputs": [],
   "source": [
    "b.extend(['mansion', 'villa'])"
   ]
  },
  {
   "cell_type": "code",
   "execution_count": 875,
   "id": "4b858ca3",
   "metadata": {},
   "outputs": [
    {
     "data": {
      "text/plain": [
       "['mud house', 'cabin', 'bungalow', 'mansion', 'villa']"
      ]
     },
     "execution_count": 875,
     "metadata": {},
     "output_type": "execute_result"
    }
   ],
   "source": [
    "b"
   ]
  },
  {
   "cell_type": "code",
   "execution_count": 886,
   "id": "c00db829",
   "metadata": {},
   "outputs": [],
   "source": [
    "x.extend(['leggins', 'bum shorts', 'jackets'])"
   ]
  },
  {
   "cell_type": "code",
   "execution_count": 887,
   "id": "0351f35b",
   "metadata": {},
   "outputs": [
    {
     "data": {
      "text/plain": [
       "['leggins', 'bum shorts', 'jackets']"
      ]
     },
     "execution_count": 887,
     "metadata": {},
     "output_type": "execute_result"
    }
   ],
   "source": [
    "x"
   ]
  },
  {
   "cell_type": "code",
   "execution_count": 888,
   "id": "0058fb76",
   "metadata": {},
   "outputs": [],
   "source": [
    "y.extend(['neck tie'])"
   ]
  },
  {
   "cell_type": "code",
   "execution_count": 889,
   "id": "5426acef",
   "metadata": {},
   "outputs": [
    {
     "data": {
      "text/plain": [
       "['watches', 'rings', 'necklaces', 'gold', 'bracelet', 'neck tie']"
      ]
     },
     "execution_count": 889,
     "metadata": {},
     "output_type": "execute_result"
    }
   ],
   "source": [
    "y"
   ]
  },
  {
   "cell_type": "code",
   "execution_count": 890,
   "id": "67d4c319",
   "metadata": {},
   "outputs": [],
   "source": [
    "z.extend(['Soma', 'Angel','Kosi'])"
   ]
  },
  {
   "cell_type": "code",
   "execution_count": 891,
   "id": "587aceca",
   "metadata": {},
   "outputs": [
    {
     "data": {
      "text/plain": [
       "['Temi', 'Sage', 'Ngozi', 'Blessing', 'Soma', 'Angel', 'Kosi']"
      ]
     },
     "execution_count": 891,
     "metadata": {},
     "output_type": "execute_result"
    }
   ],
   "source": [
    "z"
   ]
  },
  {
   "cell_type": "markdown",
   "id": "da13b12a",
   "metadata": {},
   "source": [
    "Thank you for going through!"
   ]
  }
 ],
 "metadata": {
  "kernelspec": {
   "display_name": "Python 3 (ipykernel)",
   "language": "python",
   "name": "python3"
  },
  "language_info": {
   "codemirror_mode": {
    "name": "ipython",
    "version": 3
   },
   "file_extension": ".py",
   "mimetype": "text/x-python",
   "name": "python",
   "nbconvert_exporter": "python",
   "pygments_lexer": "ipython3",
   "version": "3.11.5"
  }
 },
 "nbformat": 4,
 "nbformat_minor": 5
}
